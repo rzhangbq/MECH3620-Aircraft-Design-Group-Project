{
 "cells": [
  {
   "cell_type": "code",
   "execution_count": 1,
   "metadata": {},
   "outputs": [
    {
     "data": {
      "text/html": [
       "<div>\n",
       "<style scoped>\n",
       "    .dataframe tbody tr th:only-of-type {\n",
       "        vertical-align: middle;\n",
       "    }\n",
       "\n",
       "    .dataframe tbody tr th {\n",
       "        vertical-align: top;\n",
       "    }\n",
       "\n",
       "    .dataframe thead th {\n",
       "        text-align: right;\n",
       "    }\n",
       "</style>\n",
       "<table border=\"1\" class=\"dataframe\">\n",
       "  <thead>\n",
       "    <tr style=\"text-align: right;\">\n",
       "      <th></th>\n",
       "      <th>Model</th>\n",
       "      <th>Engine Type</th>\n",
       "      <th>Gross weight lbs</th>\n",
       "      <th>Empty weight lbs</th>\n",
       "    </tr>\n",
       "  </thead>\n",
       "  <tbody>\n",
       "    <tr>\n",
       "      <th>0</th>\n",
       "      <td>Aeronca</td>\n",
       "      <td>NaN</td>\n",
       "      <td>NaN</td>\n",
       "      <td>NaN</td>\n",
       "    </tr>\n",
       "    <tr>\n",
       "      <th>1</th>\n",
       "      <td>15 AC Sedan</td>\n",
       "      <td>Piston</td>\n",
       "      <td>2,050</td>\n",
       "      <td>1,180</td>\n",
       "    </tr>\n",
       "    <tr>\n",
       "      <th>2</th>\n",
       "      <td>11 CC Super Chief</td>\n",
       "      <td>Piston</td>\n",
       "      <td>1,350</td>\n",
       "      <td>820</td>\n",
       "    </tr>\n",
       "    <tr>\n",
       "      <th>3</th>\n",
       "      <td>7 CCM Champ</td>\n",
       "      <td>Piston</td>\n",
       "      <td>1,300</td>\n",
       "      <td>810</td>\n",
       "    </tr>\n",
       "    <tr>\n",
       "      <th>4</th>\n",
       "      <td>7 DC Champ</td>\n",
       "      <td>Piston</td>\n",
       "      <td>1,300</td>\n",
       "      <td>800</td>\n",
       "    </tr>\n",
       "    <tr>\n",
       "      <th>...</th>\n",
       "      <td>...</td>\n",
       "      <td>...</td>\n",
       "      <td>...</td>\n",
       "      <td>...</td>\n",
       "    </tr>\n",
       "    <tr>\n",
       "      <th>923</th>\n",
       "      <td>500</td>\n",
       "      <td>Piston</td>\n",
       "      <td>6,000</td>\n",
       "      <td>3,850</td>\n",
       "    </tr>\n",
       "    <tr>\n",
       "      <th>924</th>\n",
       "      <td>520</td>\n",
       "      <td>Piston</td>\n",
       "      <td>5,500</td>\n",
       "      <td>3,800</td>\n",
       "    </tr>\n",
       "    <tr>\n",
       "      <th>925</th>\n",
       "      <td>Varga</td>\n",
       "      <td>NaN</td>\n",
       "      <td>NaN</td>\n",
       "      <td>NaN</td>\n",
       "    </tr>\n",
       "    <tr>\n",
       "      <th>926</th>\n",
       "      <td>2180</td>\n",
       "      <td>Piston</td>\n",
       "      <td>1,817</td>\n",
       "      <td>1,175</td>\n",
       "    </tr>\n",
       "    <tr>\n",
       "      <th>927</th>\n",
       "      <td>2150A Kachina</td>\n",
       "      <td>Piston</td>\n",
       "      <td>1,817</td>\n",
       "      <td>1,125</td>\n",
       "    </tr>\n",
       "  </tbody>\n",
       "</table>\n",
       "<p>928 rows × 4 columns</p>\n",
       "</div>"
      ],
      "text/plain": [
       "                 Model Engine Type Gross weight lbs Empty weight lbs\n",
       "0              Aeronca         NaN              NaN              NaN\n",
       "1          15 AC Sedan      Piston            2,050            1,180\n",
       "2    11 CC Super Chief      Piston            1,350              820\n",
       "3          7 CCM Champ      Piston            1,300              810\n",
       "4           7 DC Champ      Piston            1,300              800\n",
       "..                 ...         ...              ...              ...\n",
       "923                500      Piston            6,000            3,850\n",
       "924                520      Piston            5,500            3,800\n",
       "925              Varga         NaN              NaN              NaN\n",
       "926               2180      Piston            1,817            1,175\n",
       "927      2150A Kachina      Piston            1,817            1,125\n",
       "\n",
       "[928 rows x 4 columns]"
      ]
     },
     "execution_count": 1,
     "metadata": {},
     "output_type": "execute_result"
    }
   ],
   "source": [
    "import pandas as pd\n",
    "# load excel\n",
    "df = pd.read_excel('Linear_regression.xlsx')\n",
    "# Keep only Model, Engine Type, Gross weight lbs and Empty weight lbs\n",
    "df = df[['Model', 'Engine Type', 'Gross weight lbs', 'Empty weight lbs']]\n",
    "df"
   ]
  },
  {
   "cell_type": "code",
   "execution_count": 2,
   "metadata": {},
   "outputs": [],
   "source": [
    "df = df[df['Engine Type'] == 'Jet']\n",
    "# filter out non-number Gross weight lbs\n",
    "df = df[df['Gross weight lbs'].apply(lambda x: str(x).isdigit())]\n",
    "# filter out non-number Empty weight lbs\n",
    "df = df[df['Empty weight lbs'].apply(lambda x: str(x).isdigit())]"
   ]
  },
  {
   "cell_type": "code",
   "execution_count": 3,
   "metadata": {},
   "outputs": [
    {
     "ename": "ModuleNotFoundError",
     "evalue": "No module named 'sklearn'",
     "output_type": "error",
     "traceback": [
      "\u001b[0;31m---------------------------------------------------------------------------\u001b[0m",
      "\u001b[0;31mModuleNotFoundError\u001b[0m                       Traceback (most recent call last)",
      "\u001b[1;32m/localdata/rzhangbq/MECH3620-Aircraft-Design-Group-Project/linear_regression.ipynb Cell 3\u001b[0m line \u001b[0;36m4\n\u001b[1;32m      <a href='vscode-notebook-cell://ssh-remote%2B7b22686f73744e616d65223a22554743505532227d/localdata/rzhangbq/MECH3620-Aircraft-Design-Group-Project/linear_regression.ipynb#W2sdnNjb2RlLXJlbW90ZQ%3D%3D?line=0'>1</a>\u001b[0m \u001b[39m# We / Wo = A*Wo^c, where We is empty weight, Wo is gross weight, A and c are constants\u001b[39;00m\n\u001b[1;32m      <a href='vscode-notebook-cell://ssh-remote%2B7b22686f73744e616d65223a22554743505532227d/localdata/rzhangbq/MECH3620-Aircraft-Design-Group-Project/linear_regression.ipynb#W2sdnNjb2RlLXJlbW90ZQ%3D%3D?line=1'>2</a>\u001b[0m \u001b[39m# Conduct linear regression on log(We) = log(A) + c*log(Wo)\u001b[39;00m\n\u001b[1;32m      <a href='vscode-notebook-cell://ssh-remote%2B7b22686f73744e616d65223a22554743505532227d/localdata/rzhangbq/MECH3620-Aircraft-Design-Group-Project/linear_regression.ipynb#W2sdnNjb2RlLXJlbW90ZQ%3D%3D?line=2'>3</a>\u001b[0m \u001b[39mimport\u001b[39;00m \u001b[39mnumpy\u001b[39;00m \u001b[39mas\u001b[39;00m \u001b[39mnp\u001b[39;00m\n\u001b[0;32m----> <a href='vscode-notebook-cell://ssh-remote%2B7b22686f73744e616d65223a22554743505532227d/localdata/rzhangbq/MECH3620-Aircraft-Design-Group-Project/linear_regression.ipynb#W2sdnNjb2RlLXJlbW90ZQ%3D%3D?line=3'>4</a>\u001b[0m \u001b[39mfrom\u001b[39;00m \u001b[39msklearn\u001b[39;00m\u001b[39m.\u001b[39;00m\u001b[39mlinear_model\u001b[39;00m \u001b[39mimport\u001b[39;00m LinearRegression\n",
      "\u001b[0;31mModuleNotFoundError\u001b[0m: No module named 'sklearn'"
     ]
    }
   ],
   "source": [
    "# We / Wo = A*Wo^c, where We is empty weight, Wo is gross weight, A and c are constants\n",
    "# Conduct linear regression on log(We) = log(A) + c*log(Wo)\n",
    "import numpy as np\n",
    "from sklearn.linear_model import LinearRegression\n"
   ]
  },
  {
   "cell_type": "code",
   "execution_count": null,
   "metadata": {},
   "outputs": [],
   "source": []
  }
 ],
 "metadata": {
  "kernelspec": {
   "display_name": "Python 3",
   "language": "python",
   "name": "python3"
  },
  "language_info": {
   "codemirror_mode": {
    "name": "ipython",
    "version": 3
   },
   "file_extension": ".py",
   "mimetype": "text/x-python",
   "name": "python",
   "nbconvert_exporter": "python",
   "pygments_lexer": "ipython3",
   "version": "3.10.9"
  }
 },
 "nbformat": 4,
 "nbformat_minor": 2
}
